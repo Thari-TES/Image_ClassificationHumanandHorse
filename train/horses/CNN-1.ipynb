{
 "cells": [
  {
   "cell_type": "code",
   "execution_count": 13,
   "metadata": {},
   "outputs": [],
   "source": [
    "\n",
    "import cv2 as cv\n",
    "import numpy as np \n",
    "import tensorflow as tf"
   ]
  },
  {
   "cell_type": "code",
   "execution_count": 4,
   "metadata": {},
   "outputs": [
    {
     "name": "stdout",
     "output_type": "stream",
     "text": [
      "Found 1027 images belonging to 2 classes.\n",
      "Found 256 images belonging to 2 classes.\n"
     ]
    }
   ],
   "source": [
    "train_datagen = tf.keras.preprocessing.image.ImageDataGenerator(\n",
    "                                                                rescale = 1/255.0,\n",
    "                                                                rotation_range=20,\n",
    "                                                                width_shift_range=0.2,\n",
    "                                                                height_shift_range=0.20,\n",
    "                                                                horizontal_flip=True,\n",
    "                                                                vertical_flip=True\n",
    "                                                                )\n",
    "\n",
    "valid_datagen = tf.keras.preprocessing.image.ImageDataGenerator(\n",
    "                                                                rescale = 1/255.0,\n",
    "                                                                rotation_range=20,\n",
    "                                                                width_shift_range=0.2,\n",
    "                                                                height_shift_range=0.20,\n",
    "                                                                horizontal_flip=True,\n",
    "                                                                vertical_flip=True\n",
    "                                                                )\n",
    "\n",
    "train_generator = train_datagen.flow_from_directory(\n",
    "                                                    directory='data/train',\n",
    "                                                    target_size=(224, 224),\n",
    "                                                    batch_size=12,\n",
    "                                                    class_mode='binary',\n",
    "                                                    shuffle=True,\n",
    "                                                    seed=42\n",
    "                                                    )\n",
    "\n",
    "valid_generator = valid_datagen.flow_from_directory(\n",
    "                                                    directory='data/validation',\n",
    "                                                    target_size=(224, 224),\n",
    "                                                    batch_size=12,\n",
    "                                                    class_mode='binary',\n",
    "                                                    shuffle=True,\n",
    "                                                    seed=42\n",
    "                                                    )"
   ]
  },
  {
   "cell_type": "code",
   "execution_count": 10,
   "metadata": {},
   "outputs": [
    {
     "name": "stdout",
     "output_type": "stream",
     "text": [
      "Model: \"sequential_5\"\n",
      "_________________________________________________________________\n",
      " Layer (type)                Output Shape              Param #   \n",
      "=================================================================\n",
      " conv2d_14 (Conv2D)          (None, 222, 222, 64)      1792      \n",
      "                                                                 \n",
      " max_pooling2d_7 (MaxPoolin  (None, 111, 111, 64)      0         \n",
      " g2D)                                                            \n",
      "                                                                 \n",
      " conv2d_15 (Conv2D)          (None, 109, 109, 128)     73856     \n",
      "                                                                 \n",
      " max_pooling2d_8 (MaxPoolin  (None, 54, 54, 128)       0         \n",
      " g2D)                                                            \n",
      "                                                                 \n",
      " conv2d_16 (Conv2D)          (None, 52, 52, 128)       147584    \n",
      "                                                                 \n",
      " max_pooling2d_9 (MaxPoolin  (None, 26, 26, 128)       0         \n",
      " g2D)                                                            \n",
      "                                                                 \n",
      " flatten_1 (Flatten)         (None, 86528)             0         \n",
      "                                                                 \n",
      " dense (Dense)               (None, 512)               44302848  \n",
      "                                                                 \n",
      " dense_1 (Dense)             (None, 256)               131328    \n",
      "                                                                 \n",
      " dense_2 (Dense)             (None, 1)                 257       \n",
      "                                                                 \n",
      "=================================================================\n",
      "Total params: 44657665 (170.36 MB)\n",
      "Trainable params: 44657665 (170.36 MB)\n",
      "Non-trainable params: 0 (0.00 Byte)\n",
      "_________________________________________________________________\n"
     ]
    }
   ],
   "source": [
    "# sequential API\n",
    "model = tf.keras.Sequential([\n",
    "                            tf.keras.layers.Conv2D(64, (3,3), input_shape=(224,224,3), activation = 'relu'),\n",
    "                            tf.keras.layers.MaxPool2D(2,2),\n",
    "                            tf.keras.layers.Conv2D(128, (3,3), activation = 'relu'),\n",
    "                            tf.keras.layers.MaxPool2D(2,2),\n",
    "                            tf.keras.layers.Conv2D(128, (3,3), activation = 'relu'),\n",
    "                            tf.keras.layers.MaxPool2D(2,2),\n",
    "                            tf.keras.layers.Flatten(),\n",
    "                            tf.keras.layers.Dense(512, activation = 'relu'),\n",
    "                            tf.keras.layers.Dense(256, activation = 'relu'),\n",
    "                            tf.keras.layers.Dense(1, activation='sigmoid')    \n",
    "                        ])\n",
    "model.summary()\n",
    "# functional API"
   ]
  },
  {
   "cell_type": "code",
   "execution_count": 12,
   "metadata": {},
   "outputs": [
    {
     "name": "stdout",
     "output_type": "stream",
     "text": [
      "Epoch 1/20\n",
      "86/86 [==============================] - 41s 470ms/step - loss: 0.7101 - accuracy: 0.5229 - val_loss: 0.6461 - val_accuracy: 0.6289\n",
      "Epoch 2/20\n",
      "86/86 [==============================] - 41s 478ms/step - loss: 0.5208 - accuracy: 0.7595 - val_loss: 0.8535 - val_accuracy: 0.7695\n",
      "Epoch 3/20\n",
      "86/86 [==============================] - 40s 460ms/step - loss: 0.3928 - accuracy: 0.8510 - val_loss: 0.8240 - val_accuracy: 0.7422\n",
      "Epoch 4/20\n",
      "86/86 [==============================] - 39s 450ms/step - loss: 0.2925 - accuracy: 0.8802 - val_loss: 1.9620 - val_accuracy: 0.7070\n",
      "Epoch 5/20\n",
      "86/86 [==============================] - 40s 465ms/step - loss: 0.2294 - accuracy: 0.9192 - val_loss: 0.8163 - val_accuracy: 0.8320\n",
      "Epoch 6/20\n",
      "86/86 [==============================] - 41s 470ms/step - loss: 0.2058 - accuracy: 0.9270 - val_loss: 0.6082 - val_accuracy: 0.8672\n",
      "Epoch 7/20\n",
      "86/86 [==============================] - 39s 449ms/step - loss: 0.2722 - accuracy: 0.8997 - val_loss: 1.0258 - val_accuracy: 0.7734\n",
      "Epoch 8/20\n",
      "86/86 [==============================] - 39s 455ms/step - loss: 0.2045 - accuracy: 0.9241 - val_loss: 1.7758 - val_accuracy: 0.8164\n",
      "Epoch 9/20\n",
      "86/86 [==============================] - 39s 452ms/step - loss: 0.1672 - accuracy: 0.9396 - val_loss: 1.0744 - val_accuracy: 0.8320\n",
      "Epoch 10/20\n",
      "86/86 [==============================] - 39s 451ms/step - loss: 0.1648 - accuracy: 0.9464 - val_loss: 0.7632 - val_accuracy: 0.8672\n",
      "Epoch 11/20\n",
      "86/86 [==============================] - 39s 450ms/step - loss: 0.1663 - accuracy: 0.9377 - val_loss: 1.2843 - val_accuracy: 0.8242\n",
      "Epoch 12/20\n",
      "86/86 [==============================] - 39s 455ms/step - loss: 0.1629 - accuracy: 0.9328 - val_loss: 2.4617 - val_accuracy: 0.7539\n",
      "Epoch 13/20\n",
      "86/86 [==============================] - 39s 457ms/step - loss: 0.1432 - accuracy: 0.9445 - val_loss: 0.8837 - val_accuracy: 0.8008\n",
      "Epoch 14/20\n",
      "86/86 [==============================] - 39s 455ms/step - loss: 0.1523 - accuracy: 0.9426 - val_loss: 1.0796 - val_accuracy: 0.8398\n",
      "Epoch 15/20\n",
      "86/86 [==============================] - 39s 454ms/step - loss: 0.1388 - accuracy: 0.9533 - val_loss: 1.4694 - val_accuracy: 0.7734\n",
      "Epoch 16/20\n",
      "86/86 [==============================] - 40s 459ms/step - loss: 0.1629 - accuracy: 0.9338 - val_loss: 2.0411 - val_accuracy: 0.7617\n",
      "Epoch 17/20\n",
      "86/86 [==============================] - 41s 471ms/step - loss: 0.1236 - accuracy: 0.9552 - val_loss: 1.3291 - val_accuracy: 0.8047\n",
      "Epoch 18/20\n",
      "86/86 [==============================] - 39s 449ms/step - loss: 0.1407 - accuracy: 0.9513 - val_loss: 1.0095 - val_accuracy: 0.8164\n",
      "Epoch 19/20\n",
      "86/86 [==============================] - 39s 451ms/step - loss: 0.1228 - accuracy: 0.9523 - val_loss: 1.4485 - val_accuracy: 0.7734\n",
      "Epoch 20/20\n",
      "86/86 [==============================] - 39s 448ms/step - loss: 0.1121 - accuracy: 0.9581 - val_loss: 0.7946 - val_accuracy: 0.8438\n"
     ]
    },
    {
     "data": {
      "text/plain": [
       "<keras.src.callbacks.History at 0x289107f40>"
      ]
     },
     "execution_count": 12,
     "metadata": {},
     "output_type": "execute_result"
    }
   ],
   "source": [
    "model.compile(\n",
    "            loss = 'binary_crossentropy',\n",
    "            optimizer = 'adam',\n",
    "            metrics=['accuracy']\n",
    "            )\n",
    "\n",
    "model.fit(\n",
    "        train_generator,\n",
    "        validation_data=valid_generator,\n",
    "        epochs=20\n",
    "        )"
   ]
  },
  {
   "cell_type": "code",
   "execution_count": 16,
   "metadata": {},
   "outputs": [
    {
     "data": {
      "text/plain": [
       "{'horses': 0, 'humans': 1}"
      ]
     },
     "execution_count": 16,
     "metadata": {},
     "output_type": "execute_result"
    }
   ],
   "source": [
    "train_generator.class_indices"
   ]
  },
  {
   "cell_type": "code",
   "execution_count": 19,
   "metadata": {},
   "outputs": [
    {
     "name": "stdout",
     "output_type": "stream",
     "text": [
      "1/1 [==============================] - 0s 33ms/step\n"
     ]
    },
    {
     "data": {
      "text/plain": [
       "'HORSE'"
      ]
     },
     "execution_count": 19,
     "metadata": {},
     "output_type": "execute_result"
    }
   ],
   "source": [
    "def inference(image_path):\n",
    "    img = cv.imread(image_path)\n",
    "    img = cv.cvtColor(img, cv.COLOR_BGR2RGB)\n",
    "    img = cv.resize(img, (224,224))\n",
    "    img = img / 255.0\n",
    "    img = np.array([img])\n",
    "    P = model.predict(img).squeeze()\n",
    "    return 'HUMAN' if P > 0.5 else 'HORSE'\n",
    "    \n",
    "inference('data/train/horses/horse01-9.png')"
   ]
  },
  {
   "cell_type": "code",
   "execution_count": null,
   "metadata": {},
   "outputs": [],
   "source": []
  }
 ],
 "metadata": {
  "kernelspec": {
   "display_name": "MLclass",
   "language": "python",
   "name": "python3"
  },
  "language_info": {
   "codemirror_mode": {
    "name": "ipython",
    "version": 3
   },
   "file_extension": ".py",
   "mimetype": "text/x-python",
   "name": "python",
   "nbconvert_exporter": "python",
   "pygments_lexer": "ipython3",
   "version": "3.8.17"
  },
  "orig_nbformat": 4
 },
 "nbformat": 4,
 "nbformat_minor": 2
}
